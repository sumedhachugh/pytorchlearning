{
  "nbformat": 4,
  "nbformat_minor": 0,
  "metadata": {
    "colab": {
      "name": "01_pytorch_workflow_exercises.ipynb",
      "provenance": []
    },
    "kernelspec": {
      "name": "python3",
      "display_name": "Python 3"
    },
    "language_info": {
      "name": "python"
    },
    "accelerator": "GPU"
  },
  "cells": [
    {
      "cell_type": "markdown",
      "source": [
        "# 01. PyTorch Workflow Exercise Template\n",
        "\n",
        "The following is a template for the PyTorch workflow exercises.\n",
        "\n",
        "It's only starter code and it's your job to fill in the blanks.\n",
        "\n",
        "Because of the flexibility of PyTorch, there may be more than one way to answer the question.\n",
        "\n",
        "Don't worry about trying to be *right* just try writing code that suffices the question.\n",
        "\n",
        "You can see one form of [solutions on GitHub](https://github.com/mrdbourke/pytorch-deep-learning/tree/main/extras/solutions) (but try the exercises below yourself first!)."
      ],
      "metadata": {
        "id": "N8LsPXZti9Sw"
      }
    },
    {
      "cell_type": "code",
      "source": [
        "# Import necessary libraries\n",
        "import torch\n",
        "import matplotlib.pyplot as plt\n",
        "from torch import nn"
      ],
      "metadata": {
        "id": "Glu2fM4dkNlx"
      },
      "execution_count": 37,
      "outputs": []
    },
    {
      "cell_type": "code",
      "source": [
        "# Setup device-agnostic code\n",
        "device = 'cuda' if torch.cuda.is_available() else 'cpu'\n",
        "device"
      ],
      "metadata": {
        "id": "LqKhXY26m31s",
        "outputId": "67f998b5-f53c-4e0a-cd71-bd5b2cbed18f",
        "colab": {
          "base_uri": "https://localhost:8080/",
          "height": 35
        }
      },
      "execution_count": 38,
      "outputs": [
        {
          "output_type": "execute_result",
          "data": {
            "text/plain": [
              "'cpu'"
            ],
            "application/vnd.google.colaboratory.intrinsic+json": {
              "type": "string"
            }
          },
          "metadata": {},
          "execution_count": 38
        }
      ]
    },
    {
      "cell_type": "markdown",
      "source": [
        "## 1. Create a straight line dataset using the linear regression formula (`weight * X + bias`).\n",
        "  * Set `weight=0.3` and `bias=0.9` there should be at least 100 datapoints total.\n",
        "  * Split the data into 80% training, 20% testing.\n",
        "  * Plot the training and testing data so it becomes visual.\n",
        "\n",
        "Your output of the below cell should look something like:\n",
        "```\n",
        "Number of X samples: 100\n",
        "Number of y samples: 100\n",
        "First 10 X & y samples:\n",
        "X: tensor([0.0000, 0.0100, 0.0200, 0.0300, 0.0400, 0.0500, 0.0600, 0.0700, 0.0800,\n",
        "        0.0900])\n",
        "y: tensor([0.9000, 0.9030, 0.9060, 0.9090, 0.9120, 0.9150, 0.9180, 0.9210, 0.9240,\n",
        "        0.9270])\n",
        "```\n",
        "\n",
        "Of course the numbers in `X` and `y` may be different but ideally they're created using the linear regression formula."
      ],
      "metadata": {
        "id": "g7HUhxCxjeBx"
      }
    },
    {
      "cell_type": "code",
      "source": [
        "# Create the data parameters\n",
        "weight = 0.3\n",
        "bias = 0.9\n",
        "X = torch.arange(0,100,1)\n",
        "# Make X and y using linear regression feature\n",
        "\n",
        "y = weight*X+bias\n",
        "print(f\"Number of X samples: {len(X)}\")\n",
        "print(f\"Number of y samples: {len(y)}\")\n",
        "print(f\"First 10 X & y samples:\\nX: {X[:10]}\\ny: {y[:10]}\")"
      ],
      "metadata": {
        "id": "KbDG5MV7jhvE",
        "outputId": "5396898d-d02f-4676-8d50-0c2f032f40e7",
        "colab": {
          "base_uri": "https://localhost:8080/"
        }
      },
      "execution_count": 39,
      "outputs": [
        {
          "output_type": "stream",
          "name": "stdout",
          "text": [
            "Number of X samples: 100\n",
            "Number of y samples: 100\n",
            "First 10 X & y samples:\n",
            "X: tensor([0, 1, 2, 3, 4, 5, 6, 7, 8, 9])\n",
            "y: tensor([0.9000, 1.2000, 1.5000, 1.8000, 2.1000, 2.4000, 2.7000, 3.0000, 3.3000,\n",
            "        3.6000])\n"
          ]
        }
      ]
    },
    {
      "cell_type": "code",
      "source": [
        "# Split the data into training and testing\n",
        "tr_len = 80\n",
        "X_train = X[:tr_len]\n",
        "X_test = X[tr_len:]\n",
        "y_train = y[:tr_len]\n",
        "y_test = y[tr_len:]\n",
        "print(len(X_train)),print(len(X_test)),print(len(y_train)),print(len(y_test))"
      ],
      "metadata": {
        "id": "GlwtT1djkmLw",
        "outputId": "55477f35-a55c-4ba4-9145-9446833abcca",
        "colab": {
          "base_uri": "https://localhost:8080/"
        }
      },
      "execution_count": 40,
      "outputs": [
        {
          "output_type": "stream",
          "name": "stdout",
          "text": [
            "80\n",
            "20\n",
            "80\n",
            "20\n"
          ]
        },
        {
          "output_type": "execute_result",
          "data": {
            "text/plain": [
              "(None, None, None, None)"
            ]
          },
          "metadata": {},
          "execution_count": 40
        }
      ]
    },
    {
      "cell_type": "code",
      "source": [
        "\n",
        "# Plot the training and testing data\n",
        "plt.figure(figsize = (5,5))\n",
        "plt.scatter(X_train,y_train, c='b', s = 2, label = 'training data')\n",
        "plt.scatter(X_test,y_test, c='g', s =2, label = 'test data')"
      ],
      "metadata": {
        "id": "29iQZFNhlYJ-",
        "outputId": "fece6586-bf4d-45b0-ae71-7e78acf8a328",
        "colab": {
          "base_uri": "https://localhost:8080/",
          "height": 463
        }
      },
      "execution_count": 41,
      "outputs": [
        {
          "output_type": "execute_result",
          "data": {
            "text/plain": [
              "<matplotlib.collections.PathCollection at 0x7bb96e8c7910>"
            ]
          },
          "metadata": {},
          "execution_count": 41
        },
        {
          "output_type": "display_data",
          "data": {
            "text/plain": [
              "<Figure size 500x500 with 1 Axes>"
            ],
            "image/png": "[encoded data removed]"
          },
          "metadata": {}
        }
      ]
    },
    {
      "cell_type": "markdown",
      "source": [
        "## 2. Build a PyTorch model by subclassing `nn.Module`.\n",
        "  * Inside should be a randomly initialized `nn.Parameter()` with `requires_grad=True`, one for `weights` and one for `bias`.\n",
        "  * Implement the `forward()` method to compute the linear regression function you used to create the dataset in 1.\n",
        "  * Once you've constructed the model, make an instance of it and check its `state_dict()`.\n",
        "  * **Note:** If you'd like to use `nn.Linear()` instead of `nn.Parameter()` you can."
      ],
      "metadata": {
        "id": "ImZoe3v8jif8"
      }
    },
    {
      "cell_type": "code",
      "source": [
        "# Create PyTorch linear regression model by subclassing nn.Module\n",
        "class LinearRegression_ours(nn.Module):\n",
        "  def __init__(self):\n",
        "    super().__init__()\n",
        "    self.weight = nn.Parameter(data = torch.randn(1, requires_grad=True, dtype = torch.float))\n",
        "    self.bias = nn.Parameter(data = torch.randn(1, requires_grad=True, dtype = torch.float))\n",
        "\n",
        "  def forward(self,x):\n",
        "    return self.weight*x+self.bias\n"
      ],
      "metadata": {
        "id": "qzd__Y5rjtB8"
      },
      "execution_count": 42,
      "outputs": []
    },
    {
      "cell_type": "code",
      "source": [
        "# Instantiate the model and put it to the target device\n",
        "our_model = LinearRegression_ours()\n",
        "our_model.state_dict()"
      ],
      "metadata": {
        "id": "5LdcDnmOmyQ2",
        "outputId": "8e96fc9d-42ae-4301-b8c1-0f0df2f91a47",
        "colab": {
          "base_uri": "https://localhost:8080/"
        }
      },
      "execution_count": 43,
      "outputs": [
        {
          "output_type": "execute_result",
          "data": {
            "text/plain": [
              "OrderedDict([('weight', tensor([-1.5313])), ('bias', tensor([0.6318]))])"
            ]
          },
          "metadata": {},
          "execution_count": 43
        }
      ]
    },
    {
      "cell_type": "code",
      "source": [
        "our_model.to(device)"
      ],
      "metadata": {
        "id": "-DspnM5lcblA",
        "outputId": "b6ceca86-6920-451a-d10c-b5cfadd258fd",
        "colab": {
          "base_uri": "https://localhost:8080/"
        }
      },
      "execution_count": 44,
      "outputs": [
        {
          "output_type": "execute_result",
          "data": {
            "text/plain": [
              "LinearRegression_ours()"
            ]
          },
          "metadata": {},
          "execution_count": 44
        }
      ]
    },
    {
      "cell_type": "markdown",
      "source": [
        "## 3. Create a loss function and optimizer using `nn.L1Loss()` and `torch.optim.SGD(params, lr)` respectively.\n",
        "  * Set the learning rate of the optimizer to be 0.01 and the parameters to optimize should be the model parameters from the model you created in 2.\n",
        "  * Write a training loop to perform the appropriate training steps for 300 epochs.\n",
        "  * The training loop should test the model on the test dataset every 20 epochs."
      ],
      "metadata": {
        "id": "G6nYOrJhjtfu"
      }
    },
    {
      "cell_type": "code",
      "source": [
        "# Create the loss function and optimizer\n",
        "loss_fun = nn.L1Loss()\n",
        "optimizer = torch.optim.SGD(params = our_model.parameters(), lr = 0.01)\n"
      ],
      "metadata": {
        "id": "ltvoZ-FWjv1j"
      },
      "execution_count": 45,
      "outputs": []
    },
    {
      "cell_type": "code",
      "source": [
        "# Training loop\n",
        "\n",
        "\n",
        "# Train model for 300 epochs\n",
        "torch.manual_seed(8)\n",
        "\n",
        "# Send data to target device\n",
        "X_train = X_train.to(device)\n",
        "X_test = X_test.to(device)\n",
        "y_train = y_train.to(device)\n",
        "y_test = y_test.to(device)\n",
        "\n",
        "epochs = 300\n",
        "for epoch in range(epochs):\n",
        "\n",
        "  ### Training\n",
        "\n",
        "  # Put model in train mode\n",
        "  our_model.train()\n",
        "\n",
        "  # 1. Forward pass\n",
        "  y_pred = our_model(X_train)\n",
        "\n",
        "  # 2. Calculate loss\n",
        "  loss = loss_fun(y_pred, y_train)\n",
        "\n",
        "  # 3. Zero gradients\n",
        "  optimizer.zero_grad()\n",
        "\n",
        "  # 4. Backpropagation\n",
        "  loss.backward()\n",
        "\n",
        "  # 5. Step the optimizer\n",
        "  optimizer.step()\n",
        "\n",
        "  ### Perform testing every 20 epochs\n",
        "  if epoch % 20 == 0:\n",
        "\n",
        "    # Put model in evaluation mode and setup inference context\n",
        "    our_model.eval()\n",
        "    with torch.inference_mode():\n",
        "\n",
        "      # 1. Forward pass\n",
        "      y_pred_test = our_model(X_test)\n",
        "      # 2. Calculate test loss\n",
        "      test_loss = loss_fun(y_pred_test, y_test)\n",
        "\n",
        "      # Print out what's happening\n",
        "      print(f\"Epoch: {epoch} | Train loss: {loss:.3f} | Test loss: {test_loss:.3f}\")"
      ],
      "metadata": {
        "id": "xpE83NvNnkdV",
        "outputId": "83031047-0224-4cde-a91b-348fc3e3c047",
        "colab": {
          "base_uri": "https://localhost:8080/"
        }
      },
      "execution_count": 46,
      "outputs": [
        {
          "output_type": "stream",
          "name": "stdout",
          "text": [
            "Epoch: 0 | Train loss: 72.603 | Test loss: 128.803\n",
            "Epoch: 20 | Train loss: 10.070 | Test loss: 12.830\n",
            "Epoch: 40 | Train loss: 9.966 | Test loss: 13.059\n",
            "Epoch: 60 | Train loss: 9.862 | Test loss: 13.287\n",
            "Epoch: 80 | Train loss: 9.759 | Test loss: 13.516\n",
            "Epoch: 100 | Train loss: 9.655 | Test loss: 13.745\n",
            "Epoch: 120 | Train loss: 9.551 | Test loss: 13.974\n",
            "Epoch: 140 | Train loss: 9.447 | Test loss: 14.202\n",
            "Epoch: 160 | Train loss: 9.344 | Test loss: 14.431\n",
            "Epoch: 180 | Train loss: 9.240 | Test loss: 14.660\n",
            "Epoch: 200 | Train loss: 9.136 | Test loss: 14.889\n",
            "Epoch: 220 | Train loss: 9.113 | Test loss: 14.936\n",
            "Epoch: 240 | Train loss: 9.111 | Test loss: 14.939\n",
            "Epoch: 260 | Train loss: 9.108 | Test loss: 14.941\n",
            "Epoch: 280 | Train loss: 9.106 | Test loss: 14.944\n"
          ]
        }
      ]
    },
    {
      "cell_type": "markdown",
      "source": [
        "## 4. Make predictions with the trained model on the test data.\n",
        "  * Visualize these predictions against the original training and testing data (**note:** you may need to make sure the predictions are *not* on the GPU if you want to use non-CUDA-enabled libraries such as matplotlib to plot)."
      ],
      "metadata": {
        "id": "x4j4TM18jwa7"
      }
    },
    {
      "cell_type": "code",
      "source": [
        "# Make predictions with the model\n",
        "y_pred_test"
      ],
      "metadata": {
        "id": "bbMPK5Qjjyx_",
        "outputId": "95db0904-b596-44ad-cc3e-cafc412a330b",
        "colab": {
          "base_uri": "https://localhost:8080/"
        }
      },
      "execution_count": 47,
      "outputs": [
        {
          "output_type": "execute_result",
          "data": {
            "text/plain": [
              "tensor([38.2408, 38.7095, 39.1783, 39.6470, 40.1157, 40.5845, 41.0532, 41.5220,\n",
              "        41.9907, 42.4595, 42.9282, 43.3970, 43.8657, 44.3344, 44.8032, 45.2719,\n",
              "        45.7407, 46.2094, 46.6782, 47.1469])"
            ]
          },
          "metadata": {},
          "execution_count": 47
        }
      ]
    },
    {
      "cell_type": "code",
      "source": [
        "# Plot the predictions (these may need to be on a specific device)\n",
        "plt.figure(figsize = (5,5))\n",
        "plt.scatter(X_train.cpu(),y_train.cpu(), c='b', s = 2, label = 'training data')\n",
        "plt.scatter(X_test.cpu(),y_test.cpu(), c='g', s =2, label = 'test data')\n",
        "plt.scatter(X_test.cpu(), y_pred_test.cpu(), c ='r', s = 2, label = 'predicted data')"
      ],
      "metadata": {
        "id": "K3BdmQaDpFo8",
        "outputId": "f45b4e79-c643-48ab-ce21-87ba100c3920",
        "colab": {
          "base_uri": "https://localhost:8080/",
          "height": 463
        }
      },
      "execution_count": 48,
      "outputs": [
        {
          "output_type": "execute_result",
          "data": {
            "text/plain": [
              "<matplotlib.collections.PathCollection at 0x7bb96e6413c0>"
            ]
          },
          "metadata": {},
          "execution_count": 48
        },
        {
          "output_type": "display_data",
          "data": {
            "text/plain": [
              "<Figure size 500x500 with 1 Axes>"
            ],
            "image/png": "[encoded data removed]"
          },
          "metadata": {}
        }
      ]
    },
    {
      "cell_type": "markdown",
      "source": [
        "## 5. Save your trained model's `state_dict()` to file.\n",
        "  * Create a new instance of your model class you made in 2. and load in the `state_dict()` you just saved to it.\n",
        "  * Perform predictions on your test data with the loaded model and confirm they match the original model predictions from 4."
      ],
      "metadata": {
        "id": "s2OnlMWKjzX8"
      }
    },
    {
      "cell_type": "code",
      "source": [
        "from pathlib import Path\n",
        "\n",
        "# 1. Create models directory\n",
        "Model_path = Path(\"model_save\")\n",
        "Model_path.mkdir(parents = True, exist_ok = True)\n",
        "# 2. Create model save path\n",
        "Model_name = 'first_model_save.pth'\n",
        "Model_save_path = Model_path/Model_name\n",
        "# 3. Save the model state dict\n",
        "torch.save(obj = our_model.state_dict(), f = Model_save_path)"
      ],
      "metadata": {
        "id": "hgxhgD14qr-i"
      },
      "execution_count": 49,
      "outputs": []
    },
    {
      "cell_type": "code",
      "source": [
        "our_model.state_dict()"
      ],
      "metadata": {
        "id": "X9cra040HfMT",
        "outputId": "2bb7e24b-eb1f-4f60-fb75-b7828cda09d0",
        "colab": {
          "base_uri": "https://localhost:8080/"
        }
      },
      "execution_count": 50,
      "outputs": [
        {
          "output_type": "execute_result",
          "data": {
            "text/plain": [
              "OrderedDict([('weight', tensor([0.0737])), ('bias', tensor([0.7338]))])"
            ]
          },
          "metadata": {},
          "execution_count": 50
        }
      ]
    },
    {
      "cell_type": "code",
      "source": [
        "# Create new instance of model and load saved state dict (make sure to put it on the target device)\n",
        "loaded_model = LinearRegression_ours()\n"
      ],
      "metadata": {
        "id": "P9vTgiLRrJ7T"
      },
      "execution_count": 51,
      "outputs": []
    },
    {
      "cell_type": "code",
      "source": [
        "loaded_model.load_state_dict(torch.load(f=Model_save_path))\n",
        "loaded_model.to(device)"
      ],
      "metadata": {
        "id": "fp0s6tksH6OL",
        "outputId": "651879e0-01fe-4d60-de76-ab91863b695e",
        "colab": {
          "base_uri": "https://localhost:8080/"
        }
      },
      "execution_count": 52,
      "outputs": [
        {
          "output_type": "execute_result",
          "data": {
            "text/plain": [
              "LinearRegression_ours()"
            ]
          },
          "metadata": {},
          "execution_count": 52
        }
      ]
    },
    {
      "cell_type": "code",
      "source": [
        "\n",
        "loaded_model.state_dict()"
      ],
      "metadata": {
        "id": "xX_RyuODHI6D",
        "outputId": "f17ac151-8339-4a38-a612-a1428ef3dccd",
        "colab": {
          "base_uri": "https://localhost:8080/"
        }
      },
      "execution_count": 53,
      "outputs": [
        {
          "output_type": "execute_result",
          "data": {
            "text/plain": [
              "OrderedDict([('weight', tensor([0.0737])), ('bias', tensor([0.7338]))])"
            ]
          },
          "metadata": {},
          "execution_count": 53
        }
      ]
    },
    {
      "cell_type": "code",
      "source": [
        "# Make predictions with loaded model and compare them to the previous\n",
        "y_pred_loaded = loaded_model(X_test)"
      ],
      "metadata": {
        "id": "8UGX3VebrVtI"
      },
      "execution_count": 54,
      "outputs": []
    },
    {
      "cell_type": "code",
      "source": [
        "y_pred_loaded"
      ],
      "metadata": {
        "id": "zB5QQUuVGqQY",
        "outputId": "f78e52c5-46b2-419f-a7d0-9e7109e6cac9",
        "colab": {
          "base_uri": "https://localhost:8080/"
        }
      },
      "execution_count": 55,
      "outputs": [
        {
          "output_type": "execute_result",
          "data": {
            "text/plain": [
              "tensor([6.6333, 6.7070, 6.7808, 6.8545, 6.9282, 7.0020, 7.0757, 7.1495, 7.2232,\n",
              "        7.2970, 7.3707, 7.4445, 7.5182, 7.5919, 7.6657, 7.7394, 7.8132, 7.8869,\n",
              "        7.9607, 8.0344], grad_fn=<AddBackward0>)"
            ]
          },
          "metadata": {},
          "execution_count": 55
        }
      ]
    },
    {
      "cell_type": "code",
      "source": [
        "y_pred_test = our_model(X_test)"
      ],
      "metadata": {
        "id": "-TtvppEWIuYL"
      },
      "execution_count": 58,
      "outputs": []
    },
    {
      "cell_type": "code",
      "source": [
        "y_pred_loaded == y_pred_test"
      ],
      "metadata": {
        "id": "clX1XMP3ILjR",
        "outputId": "6f04cb37-5db8-4ea9-b476-1e7884f7944a",
        "colab": {
          "base_uri": "https://localhost:8080/"
        }
      },
      "execution_count": 59,
      "outputs": [
        {
          "output_type": "execute_result",
          "data": {
            "text/plain": [
              "tensor([True, True, True, True, True, True, True, True, True, True, True, True,\n",
              "        True, True, True, True, True, True, True, True])"
            ]
          },
          "metadata": {},
          "execution_count": 59
        }
      ]
    }
  ]
}